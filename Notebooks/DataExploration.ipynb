{
 "cells": [
  {
   "cell_type": "code",
   "execution_count": 18,
   "metadata": {},
   "outputs": [],
   "source": [
    "import pandas as pd\n",
    "import numpy as np\n",
    "import matplotlib.pyplot as plt\n",
    "\n",
    "# @TODO build stats stuff\n",
    "import scipy.stats"
   ]
  },
  {
   "cell_type": "code",
   "execution_count": 8,
   "metadata": {},
   "outputs": [],
   "source": [
    "r1 = pd.read_csv('res/round1.csv')\n",
    "r2 = pd.read_csv('res/round2.csv')\n",
    "r3 = pd.read_csv('res/round3.csv')"
   ]
  },
  {
   "cell_type": "code",
   "execution_count": 9,
   "metadata": {},
   "outputs": [],
   "source": [
    "all_labels = ['Atelectasis', 'Cardiomegaly', 'Consolidation', 'Edema', 'Effusion', 'Emphysema', 'Fibrosis', 'Hernia', 'Infiltration', 'Mass', 'Nodule', 'Pleural_Thickening', 'Pneumonia', 'Pneumothorax']"
   ]
  },
  {
   "cell_type": "code",
   "execution_count": 55,
   "metadata": {},
   "outputs": [
    {
     "data": {
      "text/html": [
       "<div>\n",
       "<style scoped>\n",
       "    .dataframe tbody tr th:only-of-type {\n",
       "        vertical-align: middle;\n",
       "    }\n",
       "\n",
       "    .dataframe tbody tr th {\n",
       "        vertical-align: top;\n",
       "    }\n",
       "\n",
       "    .dataframe thead th {\n",
       "        text-align: right;\n",
       "    }\n",
       "</style>\n",
       "<table border=\"1\" class=\"dataframe\">\n",
       "  <thead>\n",
       "    <tr style=\"text-align: right;\">\n",
       "      <th></th>\n",
       "      <th>sample_size</th>\n",
       "      <th>loss</th>\n",
       "      <th>test_acc</th>\n",
       "    </tr>\n",
       "  </thead>\n",
       "  <tbody>\n",
       "    <tr>\n",
       "      <th>Atelectasis</th>\n",
       "      <td>5737</td>\n",
       "      <td>2.251131</td>\n",
       "      <td>0.860335</td>\n",
       "    </tr>\n",
       "    <tr>\n",
       "      <th>Cardiomegaly</th>\n",
       "      <td>5252</td>\n",
       "      <td>0.970526</td>\n",
       "      <td>0.939787</td>\n",
       "    </tr>\n",
       "    <tr>\n",
       "      <th>Consolidation</th>\n",
       "      <td>5417</td>\n",
       "      <td>1.433581</td>\n",
       "      <td>0.911058</td>\n",
       "    </tr>\n",
       "    <tr>\n",
       "      <th>Edema</th>\n",
       "      <td>5166</td>\n",
       "      <td>0.716429</td>\n",
       "      <td>0.955551</td>\n",
       "    </tr>\n",
       "    <tr>\n",
       "      <th>Effusion</th>\n",
       "      <td>6103</td>\n",
       "      <td>3.083116</td>\n",
       "      <td>0.808717</td>\n",
       "    </tr>\n",
       "    <tr>\n",
       "      <th>Emphysema</th>\n",
       "      <td>5241</td>\n",
       "      <td>0.936308</td>\n",
       "      <td>0.941910</td>\n",
       "    </tr>\n",
       "    <tr>\n",
       "      <th>Fibrosis</th>\n",
       "      <td>5101</td>\n",
       "      <td>0.554376</td>\n",
       "      <td>0.965605</td>\n",
       "    </tr>\n",
       "    <tr>\n",
       "      <th>Hernia</th>\n",
       "      <td>4969</td>\n",
       "      <td>0.142983</td>\n",
       "      <td>0.991129</td>\n",
       "    </tr>\n",
       "    <tr>\n",
       "      <th>Infiltration</th>\n",
       "      <td>7145</td>\n",
       "      <td>0.644611</td>\n",
       "      <td>0.689182</td>\n",
       "    </tr>\n",
       "    <tr>\n",
       "      <th>Mass</th>\n",
       "      <td>5368</td>\n",
       "      <td>0.300297</td>\n",
       "      <td>0.917478</td>\n",
       "    </tr>\n",
       "    <tr>\n",
       "      <th>Nodule</th>\n",
       "      <td>5382</td>\n",
       "      <td>0.313362</td>\n",
       "      <td>0.915179</td>\n",
       "    </tr>\n",
       "    <tr>\n",
       "      <th>Pleural_Thickening</th>\n",
       "      <td>5234</td>\n",
       "      <td>0.238990</td>\n",
       "      <td>0.941143</td>\n",
       "    </tr>\n",
       "    <tr>\n",
       "      <th>Pneumonia</th>\n",
       "      <td>4885</td>\n",
       "      <td>0.121946</td>\n",
       "      <td>0.981908</td>\n",
       "    </tr>\n",
       "    <tr>\n",
       "      <th>Pneumothorax</th>\n",
       "      <td>5749</td>\n",
       "      <td>0.621802</td>\n",
       "      <td>0.834497</td>\n",
       "    </tr>\n",
       "  </tbody>\n",
       "</table>\n",
       "</div>"
      ],
      "text/plain": [
       "                    sample_size      loss  test_acc\n",
       "Atelectasis                5737  2.251131  0.860335\n",
       "Cardiomegaly               5252  0.970526  0.939787\n",
       "Consolidation              5417  1.433581  0.911058\n",
       "Edema                      5166  0.716429  0.955551\n",
       "Effusion                   6103  3.083116  0.808717\n",
       "Emphysema                  5241  0.936308  0.941910\n",
       "Fibrosis                   5101  0.554376  0.965605\n",
       "Hernia                     4969  0.142983  0.991129\n",
       "Infiltration               7145  0.644611  0.689182\n",
       "Mass                       5368  0.300297  0.917478\n",
       "Nodule                     5382  0.313362  0.915179\n",
       "Pleural_Thickening         5234  0.238990  0.941143\n",
       "Pneumonia                  4885  0.121946  0.981908\n",
       "Pneumothorax               5749  0.621802  0.834497"
      ]
     },
     "execution_count": 55,
     "metadata": {},
     "output_type": "execute_result"
    }
   ],
   "source": [
    "df = pd.concat([r1,r2,r3])\n",
    "df.columns = ['diseases' ,'sample_size' ,'loss', 'test_acc']\n",
    "df.set_index('diseases',inplace=True)\n",
    "del df.index.name\n",
    "df"
   ]
  },
  {
   "cell_type": "code",
   "execution_count": 56,
   "metadata": {},
   "outputs": [
    {
     "data": {
      "text/plain": [
       "0.903819798445858"
      ]
     },
     "execution_count": 56,
     "metadata": {},
     "output_type": "execute_result"
    }
   ],
   "source": [
    "df['test_acc'].mean()"
   ]
  },
  {
   "cell_type": "code",
   "execution_count": null,
   "metadata": {},
   "outputs": [],
   "source": []
  },
  {
   "cell_type": "code",
   "execution_count": null,
   "metadata": {},
   "outputs": [],
   "source": []
  },
  {
   "cell_type": "code",
   "execution_count": 57,
   "metadata": {},
   "outputs": [],
   "source": [
    "df.to_csv('res/completed.csv')"
   ]
  },
  {
   "cell_type": "code",
   "execution_count": null,
   "metadata": {},
   "outputs": [],
   "source": []
  }
 ],
 "metadata": {
  "kernelspec": {
   "display_name": "Python 3",
   "language": "python",
   "name": "python3"
  },
  "language_info": {
   "codemirror_mode": {
    "name": "ipython",
    "version": 3
   },
   "file_extension": ".py",
   "mimetype": "text/x-python",
   "name": "python",
   "nbconvert_exporter": "python",
   "pygments_lexer": "ipython3",
   "version": "3.7.3"
  }
 },
 "nbformat": 4,
 "nbformat_minor": 2
}
