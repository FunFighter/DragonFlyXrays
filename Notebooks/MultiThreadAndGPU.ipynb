{
 "cells": [
  {
   "cell_type": "code",
   "execution_count": 1,
   "metadata": {},
   "outputs": [],
   "source": [
    "# inporting our own functions\n",
    "from modules.TrainTestValGen import init_gens\n",
    "# @TODO add more to the modules folder to save space "
   ]
  },
  {
   "cell_type": "code",
   "execution_count": 2,
   "metadata": {},
   "outputs": [],
   "source": [
    "import pandas as pd\n",
    "import numpy as np\n",
    "import matplotlib.pyplot as plt\n",
    "import pickle\n",
    "from _thread import start_new_thread\n",
    "\n",
    "import tensorflow as tf\n",
    "from keras import backend as K\n",
    "from keras import regularizers, optimizers\n",
    "\n",
    "from keras.utils import to_categorical\n",
    "from keras_preprocessing.image import ImageDataGenerator\n",
    "from keras.models import Sequential\n",
    "from keras.layers import Dense, Conv2D, Flatten, Activation, Dropout, MaxPooling2D, BatchNormalization\n",
    "\n",
    "from keras.backend.tensorflow_backend import set_session\n",
    "from keras.backend.tensorflow_backend import clear_session\n",
    "from keras.backend.tensorflow_backend import get_session"
   ]
  },
  {
   "cell_type": "code",
   "execution_count": 3,
   "metadata": {},
   "outputs": [],
   "source": [
    "import time\n",
    "from datetime import timedelta\n",
    "\n",
    "import math\n",
    "import os\n",
    "\n",
    "import scipy.misc\n",
    "from scipy.stats import itemfreq\n",
    "from random import sample\n",
    "import pickle\n",
    "\n",
    "from sklearn.metrics import confusion_matrix\n",
    "from sklearn.model_selection import train_test_split\n",
    "\n",
    "# Image manipulation\n",
    "import PIL.Image\n",
    "from IPython.display import display"
   ]
  },
  {
   "cell_type": "code",
   "execution_count": 4,
   "metadata": {},
   "outputs": [],
   "source": [
    "# Load data\n",
    "BBox_df = pd.read_csv('../BBox_List_2017.csv')\n",
    "de_df = pd.read_csv('../Data_Entry_2017.csv')\n",
    "train_filter = pd.read_csv('../train_val_list.txt')\n",
    "train_filter.columns=['Image_Index']\n",
    "test_filter = pd.read_csv('../test_list.txt')\n",
    "test_filter.columns=['Image_Index']"
   ]
  },
  {
   "cell_type": "code",
   "execution_count": 5,
   "metadata": {},
   "outputs": [
    {
     "name": "stdout",
     "output_type": "stream",
     "text": [
      "train_df =  86511  test_df =  25591\n"
     ]
    }
   ],
   "source": [
    "# clean up incorrect ages in the data\n",
    "bad_ages = de_df[de_df['Patient Age'] >= 100].index\n",
    "\n",
    "df = de_df.drop(bad_ages)\n",
    "\n",
    "df.drop(columns=['Unnamed: 11','OriginalImagePixelSpacing[x','y]','OriginalImage[Width','Height]'], inplace=True)\n",
    "\n",
    "df.columns = ['Image_Index', 'Finding_Labels', 'Follow-up', 'Patient ID',\n",
    "       'Patient_Age', 'Patient_Gender', 'View_Position']\n",
    "\n",
    "# Remove secondary labels\n",
    "# @TODO handle labels better\n",
    "df['Finding_Labels'] = df['Finding_Labels'].apply(lambda x: x.split('|')[0])\n",
    "\n",
    "\n",
    "# Join to the list of test and training to split the data set\n",
    "train_df = pd.merge(train_filter,df , on='Image_Index', how='inner')\n",
    "test_df = pd.merge(test_filter,df , on='Image_Index', how='inner')\n",
    "\n",
    "print(f'train_df =  {len(train_df)}  test_df =  {len(test_df)}')"
   ]
  },
  {
   "cell_type": "code",
   "execution_count": 6,
   "metadata": {},
   "outputs": [],
   "source": [
    "#Size Images \n",
    "# @TODO test to see what the pixle size is \n",
    "datagen = ImageDataGenerator(rescale=.125,validation_split=0.25)\n",
    "test_datagen=ImageDataGenerator(rescale=.125)\n",
    "\n",
    "# How we bin out the batches to run onto the GPU\n",
    "BATCH_SIZE = 20"
   ]
  },
  {
   "cell_type": "code",
   "execution_count": 6,
   "metadata": {},
   "outputs": [],
   "source": [
    "# @TODO Get this working an import\n",
    "\n",
    "\n",
    "#Attach CSV to Images Folder and defline our traiing validation and test\n",
    "def vaild_gen(batch_fit):\n",
    "    global valid_generator\n",
    "    valid_generator = datagen.flow_from_dataframe(\n",
    "        dataframe=train_df,\n",
    "        directory=\"../images/\",\n",
    "        x_col=\"Image_Index\",\n",
    "        y_col=\"Finding_Labels\",\n",
    "        subset=\"validation\",\n",
    "        class_mode=\"categorical\",\n",
    "        target_size=(128,128),\n",
    "        batch_size=batch_fit)\n",
    "    \n",
    "def train_gen(batch_fit):\n",
    "    global train_generator\n",
    "    train_generator=datagen.flow_from_dataframe(\n",
    "        dataframe=train_df,\n",
    "        directory=\"../images/\",\n",
    "        x_col=\"Image_Index\",\n",
    "        y_col=\"Finding_Labels\",\n",
    "        subset=\"training\",\n",
    "        class_mode=\"categorical\",\n",
    "        target_size=(128,128),\n",
    "        batch_size=batch_fit)\n",
    "    \n",
    "def test_gen(batch_fit):\n",
    "    global test_generator\n",
    "    test_generator=test_datagen.flow_from_dataframe(\n",
    "        dataframe=test_df,\n",
    "        directory=\"../images/\",\n",
    "        x_col=\"Image_Index\",\n",
    "        y_col=\"Finding_Labels\",\n",
    "        class_mode=\"categorical\",\n",
    "        target_size=(128,128),\n",
    "        batch_size=batch_fit)\n",
    "    \n",
    "def init_gens(batch_fit):\n",
    "    start_new_thread(vaild_gen,(batch_fit, ))\n",
    "    start_new_thread(train_gen,(batch_fit ,))\n",
    "    start_new_thread(test_gen,(batch_fit, ))\n",
    "    \n",
    "# Resetting global Memory https://github.com/keras-team/keras/issues/12625\n",
    "# TODO move to module\n",
    "def reset_keras():\n",
    "    sess = get_session()\n",
    "    clear_session()\n",
    "    sess.close()\n",
    "    sess = get_session()\n",
    "\n",
    "    try:\n",
    "        del classifier # this is from global space - change this as you need\n",
    "    except:\n",
    "        pass\n",
    "    # use the same config as you used to create the session\n",
    "    config = tf.ConfigProto()\n",
    "    config.gpu_options.per_process_gpu_memory_fraction = 1\n",
    "    config.gpu_options.visible_device_list = \"0\"\n",
    "    set_session(tf.Session(config=config))"
   ]
  },
  {
   "cell_type": "code",
   "execution_count": 9,
   "metadata": {},
   "outputs": [
    {
     "name": "stdout",
     "output_type": "stream",
     "text": [
      "Found 23438 validated image filenames belonging to 15 classes.\n",
      "Found 19666 validated image filenames belonging to 15 classes.\n",
      "Found 59001 validated image filenames belonging to 15 classes.\n"
     ]
    }
   ],
   "source": [
    "init_gens(BATCH_SIZE)"
   ]
  },
  {
   "cell_type": "code",
   "execution_count": 11,
   "metadata": {},
   "outputs": [],
   "source": [
    "# @TODO read https://medium.com/nanonets/how-to-easily-build-a-dog-breed-image-classification-model-2fd214419cde\n",
    "# and build a better CNN\n",
    "#layers\n",
    "model = Sequential()\n",
    "model.add(Conv2D(64, (7, 7), padding='same',\n",
    "                 input_shape=(128,128,3)))\n",
    "model.add(Activation('relu'))\n",
    "model.add(Conv2D(64, (7, 7)))\n",
    "model.add(Activation('relu'))\n",
    "model.add(MaxPooling2D(pool_size=(2, 2)))\n",
    "model.add(Dropout(0.25))\n",
    "\n",
    "model.add(Conv2D(128, (7, 7), padding='same'))\n",
    "model.add(Activation('relu'))\n",
    "model.add(Conv2D(128, (7, 7)))\n",
    "model.add(Activation('relu'))\n",
    "model.add(MaxPooling2D(pool_size=(2, 2)))\n",
    "model.add(Dropout(0.25))\n",
    "\n",
    "model.add(Flatten())\n",
    "model.add(Dense(512))\n",
    "model.add(Activation('relu'))\n",
    "model.add(Dropout(0.25))\n",
    "\n",
    "model.add(Dense(15, activation='softmax'))"
   ]
  },
  {
   "cell_type": "code",
   "execution_count": 12,
   "metadata": {},
   "outputs": [
    {
     "data": {
      "text/plain": [
       "(2, 86512)"
      ]
     },
     "execution_count": 12,
     "metadata": {},
     "output_type": "execute_result"
    }
   ],
   "source": [
    "#test Shape of data\n",
    "train_labels = to_categorical(train_df.shape)\n",
    "train_labels.shape"
   ]
  },
  {
   "cell_type": "code",
   "execution_count": null,
   "metadata": {},
   "outputs": [],
   "source": []
  },
  {
   "cell_type": "code",
   "execution_count": 13,
   "metadata": {},
   "outputs": [
    {
     "name": "stderr",
     "output_type": "stream",
     "text": [
      "W0729 03:28:37.767798 14744 deprecation_wrapper.py:119] From C:\\Users\\saber\\Anaconda3\\envs\\tensorflow\\lib\\site-packages\\keras\\optimizers.py:790: The name tf.train.Optimizer is deprecated. Please use tf.compat.v1.train.Optimizer instead.\n",
      "\n",
      "W0729 03:28:37.771799 14744 deprecation_wrapper.py:119] From C:\\Users\\saber\\Anaconda3\\envs\\tensorflow\\lib\\site-packages\\keras\\backend\\tensorflow_backend.py:3295: The name tf.log is deprecated. Please use tf.math.log instead.\n",
      "\n",
      "W0729 03:28:37.825811 14744 deprecation.py:323] From C:\\Users\\saber\\Anaconda3\\envs\\tensorflow\\lib\\site-packages\\tensorflow\\python\\ops\\math_grad.py:1250: add_dispatch_support.<locals>.wrapper (from tensorflow.python.ops.array_ops) is deprecated and will be removed in a future version.\n",
      "Instructions for updating:\n",
      "Use tf.where in 2.0, which has the same broadcast rule as np.where\n"
     ]
    },
    {
     "name": "stdout",
     "output_type": "stream",
     "text": [
      "Epoch 1/15\n",
      "2950/2950 [==============================] - 210s 71ms/step - loss: 6.9882 - acc: 0.5662 - val_loss: 6.0324 - val_acc: 0.6257\n",
      "Epoch 2/15\n",
      "2950/2950 [==============================] - 203s 69ms/step - loss: 6.9928 - acc: 0.5662 - val_loss: 6.0318 - val_acc: 0.6258\n",
      "Epoch 3/15\n",
      "2950/2950 [==============================] - 203s 69ms/step - loss: 6.9868 - acc: 0.5665 - val_loss: 6.0326 - val_acc: 0.6257\n",
      "Epoch 4/15\n",
      "2950/2950 [==============================] - 204s 69ms/step - loss: 6.9914 - acc: 0.5662 - val_loss: 6.0326 - val_acc: 0.6257\n",
      "Epoch 5/15\n",
      "2950/2950 [==============================] - 204s 69ms/step - loss: 6.9914 - acc: 0.5662 - val_loss: 6.0285 - val_acc: 0.6260\n",
      "Epoch 6/15\n",
      "2950/2950 [==============================] - 202s 68ms/step - loss: 6.9884 - acc: 0.5664 - val_loss: 6.0351 - val_acc: 0.6256\n",
      "Epoch 7/15\n",
      "2950/2950 [==============================] - 202s 68ms/step - loss: 6.9898 - acc: 0.5663 - val_loss: 6.0318 - val_acc: 0.6258\n",
      "Epoch 8/15\n",
      "2950/2950 [==============================] - 202s 68ms/step - loss: 6.9865 - acc: 0.5665 - val_loss: 6.0318 - val_acc: 0.6258\n",
      "Epoch 9/15\n",
      "2950/2950 [==============================] - 200s 68ms/step - loss: 6.9841 - acc: 0.5667 - val_loss: 6.0301 - val_acc: 0.6259\n",
      "Epoch 10/15\n",
      "2950/2950 [==============================] - 200s 68ms/step - loss: 6.9944 - acc: 0.5661 - val_loss: 6.0375 - val_acc: 0.6254\n",
      "Epoch 11/15\n",
      "2950/2950 [==============================] - 201s 68ms/step - loss: 6.9846 - acc: 0.5667 - val_loss: 6.0334 - val_acc: 0.6257\n",
      "Epoch 12/15\n",
      "2950/2950 [==============================] - 201s 68ms/step - loss: 6.9879 - acc: 0.5665 - val_loss: 6.0252 - val_acc: 0.6262\n",
      "Epoch 13/15\n",
      "2950/2950 [==============================] - 201s 68ms/step - loss: 6.9939 - acc: 0.5661 - val_loss: 6.0359 - val_acc: 0.6255\n",
      "Epoch 14/15\n",
      "2950/2950 [==============================] - 202s 68ms/step - loss: 6.9873 - acc: 0.5665 - val_loss: 6.0310 - val_acc: 0.6258\n",
      "Epoch 15/15\n",
      "2950/2950 [==============================] - 201s 68ms/step - loss: 6.9906 - acc: 0.5663 - val_loss: 6.0400 - val_acc: 0.6253\n"
     ]
    },
    {
     "data": {
      "text/plain": [
       "<keras.callbacks.History at 0x1bba6695400>"
      ]
     },
     "execution_count": 13,
     "metadata": {},
     "output_type": "execute_result"
    }
   ],
   "source": [
    "STEP_SIZE_VALID= valid_generator.n//valid_generator.batch_size\n",
    "\n",
    "STEP_SIZE_TRAIN= train_generator.n//train_generator.batch_size\n",
    "\n",
    "STEP_SIZE_TEST=test_generator.n//test_generator.batch_size\n",
    "\n",
    "\n",
    "model.compile(optimizers.rmsprop(lr=0.0001),\n",
    "loss=\"categorical_crossentropy\", metrics=[\"accuracy\"])\n",
    "\n",
    "\n",
    "model.fit_generator(generator=train_generator,\n",
    "                    steps_per_epoch=STEP_SIZE_TRAIN,\n",
    "                    validation_data=valid_generator,\n",
    "                    validation_steps=STEP_SIZE_VALID,\n",
    "                    workers=16,\n",
    "                    use_multiprocessing=False,\n",
    "                    epochs=15) "
   ]
  },
  {
   "cell_type": "code",
   "execution_count": null,
   "metadata": {},
   "outputs": [],
   "source": []
  }
 ],
 "metadata": {
  "kernelspec": {
   "display_name": "Python 3",
   "language": "python",
   "name": "python3"
  },
  "language_info": {
   "codemirror_mode": {
    "name": "ipython",
    "version": 3
   },
   "file_extension": ".py",
   "mimetype": "text/x-python",
   "name": "python",
   "nbconvert_exporter": "python",
   "pygments_lexer": "ipython3",
   "version": "3.7.3"
  }
 },
 "nbformat": 4,
 "nbformat_minor": 2
}
